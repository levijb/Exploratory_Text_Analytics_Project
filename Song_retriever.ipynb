{
 "cells": [
  {
   "cell_type": "markdown",
   "id": "6f129435-aba5-47db-a991-0b3487435a9a",
   "metadata": {},
   "source": [
    "# Exploraory Text analysis: Hip-Hop/Rap Lyrics 1980's - 2023\n",
    "Levi Davis (ljd3frf@virginia.edu)\n",
    "University of Virginia, DS 5001: Exploratory Text Analysis, Spring 2023"
   ]
  },
  {
   "cell_type": "markdown",
   "id": "06a9f759-a0dd-4e3c-9294-e2375587c0a0",
   "metadata": {},
   "source": [
    "This notebook is for downloading lyrics from Genius API. To use, you need to get access tokens from https://genius.com/api-clients. Then store the tokens in a .env file to use in a notebook without showing the codes."
   ]
  },
  {
   "cell_type": "code",
   "execution_count": 1,
   "id": "795e2f67-72cf-44f9-9999-8e9daaf56815",
   "metadata": {},
   "outputs": [],
   "source": [
    "import pandas as pd\n",
    "import numpy as np\n",
    "import os\n",
    "import dotenv\n",
    "import lyricsgenius"
   ]
  },
  {
   "cell_type": "code",
   "execution_count": 2,
   "id": "6efe9275-3d9e-4114-b004-a5eaa355be70",
   "metadata": {},
   "outputs": [],
   "source": [
    "config = dotenv.dotenv_values(\"tokens.env\")\n",
    "client_access_token = config['client_access_token']\n",
    "# api agent\n",
    "genius = lyricsgenius.Genius(client_access_token)"
   ]
  },
  {
   "cell_type": "code",
   "execution_count": 1,
   "id": "36a2b01a-d54a-4366-a127-5f3976ea6aa2",
   "metadata": {},
   "outputs": [],
   "source": [
    "#  Artists to search for\n",
    "a = ['migos']"
   ]
  },
  {
   "cell_type": "code",
   "execution_count": null,
   "id": "f367ff1a-0d16-4097-88cc-5d6d41a81091",
   "metadata": {},
   "outputs": [],
   "source": [
    "for art in a:\n",
    "    t = True\n",
    "    while t == True:\n",
    "        try:\n",
    "            genius.excluded_terms = [\"(Remix)\", \"(Live)\", \"(Clean)\", '(Instrumental)']\n",
    "            artist = genius.search_artist(art, 500)\n",
    "            artist.save_lyrics()\n",
    "            t = False\n",
    "        except:    \n",
    "            pass"
   ]
  }
 ],
 "metadata": {
  "kernelspec": {
   "display_name": "Python 3 (ipykernel)",
   "language": "python",
   "name": "python3"
  },
  "language_info": {
   "codemirror_mode": {
    "name": "ipython",
    "version": 3
   },
   "file_extension": ".py",
   "mimetype": "text/x-python",
   "name": "python",
   "nbconvert_exporter": "python",
   "pygments_lexer": "ipython3",
   "version": "3.10.9"
  }
 },
 "nbformat": 4,
 "nbformat_minor": 5
}
