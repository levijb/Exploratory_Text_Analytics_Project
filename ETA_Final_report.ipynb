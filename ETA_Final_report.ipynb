{
 "cells": [
  {
   "cell_type": "markdown",
   "id": "e1d759ed-e24f-4d7e-90cb-a73f7cba1cdb",
   "metadata": {},
   "source": [
    "# <center>Hip-Hop Lyrics: An Exploratory Data Analysis</center>"
   ]
  },
  {
   "cell_type": "markdown",
   "id": "a0459bed-a35d-4084-bf6a-e7e9a0558a11",
   "metadata": {},
   "source": [
    "<center> Levi Davis <br> ljd3frf@virginia.edu <br> DS 5001: Exploratory Text Analysis, Spring 2023</center>"
   ]
  },
  {
   "cell_type": "markdown",
   "id": "c6d90077-d05c-4f77-bb34-0207a67706a4",
   "metadata": {},
   "source": [
    "## 1. Introduction: "
   ]
  },
  {
   "cell_type": "markdown",
   "id": "b5599d8d-6c0d-4eec-b581-33dc58dd542c",
   "metadata": {},
   "source": [
    "Hip-Hop, a genre of music and cultural movement that emerged in the late 1970s and early 1980s, has had a significant impact on popular culture since its inception. Born as a counterculture movement in basements and on the streets, Hip-Hop has grown into a global phenomenon that dominates the music industry. Despite its widespread popularity, Hip-Hop has often faced criticism from certain conservative and older communities due to its often-explicit language, crude insinuations, and depictions of immoral or illegal behavior. Despite these criticisms, Hip-Hop's popularity continues to soar, and it has become one of the most influential genres of music in the world. In this project, I will delve into the lyrics of Hip-Hop music to better understand the cultural significance of this ever-evolving art form. Some questions to guide my exploration: which artists have the longest and most unique lyrics, which artists are the most similar, how has lyrical sentiment changed over time, and what are the most popular topics in hip-hop songs?"
   ]
  },
  {
   "cell_type": "markdown",
   "id": "1fa8a38b-dd10-40e7-8c09-cdec9d2697f5",
   "metadata": {},
   "source": [
    "## 2. Data Source and Preprocessing"
   ]
  },
  {
   "cell_type": "markdown",
   "id": "a8c3635b-d309-49b1-a8c5-1107e5b1a499",
   "metadata": {},
   "source": [
    "To gather data for this project, I used the [lyricgenius](https://pypi.org/project/lyricsgenius/) package to download song information for hip-hop artists from the [Genius.com API](https://docs.genius.com/). There is a separate JSON file for each artist, and these are combined to make a complete corpus. 116 artists were selected from the 80s to present day, and each artist has more than 50 songs and no more than 250. The artists were selected based on popularity rankings from various websites while making sure to include at least 20 artists from each decade, except the 1980's, as hip-hop was just begining to emerge as a genre. I manually created a dictionary to include each artist's hometown and state, and an artist year column was created by taking the median song year for each artist. "
   ]
  },
  {
   "cell_type": "markdown",
   "id": "143bb0ee-5014-4c4c-b778-ae9ba07ec27e",
   "metadata": {},
   "source": [
    "## 3. Data Model"
   ]
  },
  {
   "cell_type": "markdown",
   "id": "9e2e59e4-2b27-4c58-b12e-7633ea8de844",
   "metadata": {},
   "source": [
    "Here is an overview of the main initial dataframes that are used in the analysis. \n",
    "\n",
    "- LIB: A dataframe containing file metadata; Artist, file path, number of songs, Genius site link, hometown, and median year. \n",
    "- FULL_CORPUS: A dataframe containing song lyrics year, artist region, artist, album, and song.\n",
    "- CORPUS: The filtered version of FULL_DF used in analysis. \n",
    "- TOKENS: Song lyrics tokenized by word with NLK package with  part of speech tag\n",
    "- VOCAB: A dataframe containing words counts for every word in CORPUS and song-level TF-IDF metrics.\n",
    "\n",
    "The OHCO level of this dataset is artist, album, song; implemented as a multiindex in CORPUS, DF, and TOKENS.\n",
    "Additonal dataframes for specific modeling techniques are included in the data files.\n",
    "  \n",
    "Song lyrics can be messy or incoherent, and it took much deliberation to decide how to process the corpus. I needed to keep enough words so each song retains meaning but not enough so that over half the content was ad-libs, non-sense words, etc. After preprocssing the lyrics, I filtered the corpus to only keep songs with more than 1000 characters (\\~200 words) but fewer than 10,000 characters (most song lyrics greater than this length are not traditional songs). This resulted in 19983 songs, about 89% of the total original songs. the resulting corpus has an average song lyric length of 2614 characters (\\~500 words) and a standard deviation of 947 characters (\\~190 words)."
   ]
  },
  {
   "cell_type": "markdown",
   "id": "7ac847ef-cf6b-4200-a269-6c5341dead49",
   "metadata": {},
   "source": [
    "# 4. Exploration"
   ]
  },
  {
   "cell_type": "markdown",
   "id": "39aa2d28-4192-4423-918b-7d24328590b0",
   "metadata": {},
   "source": [
    "To better understand the corpus, before diving into modeling techniques, I explore the dataset with some simple plots.  First I explore the distribution of artists by their state of origin."
   ]
  },
  {
   "cell_type": "markdown",
   "id": "a872a1c8-fe9e-4f42-a2ae-72a90b20a392",
   "metadata": {},
   "source": [
    "![My Image](images/state_dist.png)"
   ]
  },
  {
   "cell_type": "markdown",
   "id": "33ea5bfa-cf1b-4456-999c-6630abeeca6a",
   "metadata": {},
   "source": [
    "This plot delineates the four prominent hip-hop regions of the United States - the East coast, West coast, South, and Midwest - and showcases their representation in the dataset. New York boasts the highest number of artists, as it served as the birthplace of hip-hop and produced a majority of artists in the genre's nascent days. The West coast established its own unique hip-hop culture, distinguished by 'gangsta rap', towards the end of the 1980s and subsequently emerged as the second most prominent region. However, in the 1990's, the ascendancy of southern hip-hop in cities like Atlanta (GA), New Orleans (LA), Miami (FL), Houston (TX), and Memphis (TN) marked a turning point, leading to a more diverse soundscape. Finally, the two major midwestern hip-hop cities, Chicago (IL) and Detroit (MI), bring their respective states near the top of the rankings. \n",
    "\n",
    "Note: While being located in a major city was critical to gain recognition as a hip-hop artist in the early days, now this is much less important."
   ]
  },
  {
   "cell_type": "markdown",
   "id": "9bde4fab-ffa5-4517-a260-ecff1ad0b6a0",
   "metadata": {},
   "source": [
    "Below I select only the artists whose median release year was before or during the year 2000, and it is evident that East coast hip-hop dominated the scene, with the West coast in close pursuit."
   ]
  },
  {
   "cell_type": "markdown",
   "id": "65f8d96d-6342-4bd8-a2fb-70e892366f3c",
   "metadata": {},
   "source": [
    "![My Image](images/state_old_dist.png)"
   ]
  },
  {
   "cell_type": "markdown",
   "id": "50fab214-8248-45a7-82c3-419b75a7283d",
   "metadata": {},
   "source": [
    "Next I plot the distribution of median artist release year."
   ]
  },
  {
   "cell_type": "markdown",
   "id": "4bf3846a-ddd1-4113-a741-24284696c8b1",
   "metadata": {},
   "source": [
    "![My Image](images/Artist_median_release_year.png)"
   ]
  },
  {
   "cell_type": "markdown",
   "id": "5f426256-1d5a-40d7-a7bd-11fcd9941148",
   "metadata": {},
   "source": [
    "### Term Frequency - Inverse Document Frequency (TF-IDF)"
   ]
  },
  {
   "cell_type": "markdown",
   "id": "b4e48722-3dc6-431a-9653-b91a90b78268",
   "metadata": {},
   "source": [
    "I calculated TF-IDF scores at the song level to determine the significance of words across the corpus of documents. By averaging the TF-IDF scores per song and artist, I obtained a final metric representing distinctness for each artist, or how unique an artist's lyrical choices are compared to their peers. "
   ]
  },
  {
   "cell_type": "markdown",
   "id": "8dba9dc1-29c1-47c9-9d22-df990de45b6c",
   "metadata": {},
   "source": [
    "![My Image](images/Agg_artist_tfidf.png)"
   ]
  },
  {
   "cell_type": "markdown",
   "id": "24c978ee-9574-44cc-b071-264072b60e52",
   "metadata": {},
   "source": [
    "Next, I plot median artist year against average unique words per song and average song length for each artist. Both plots show a noticeable decline over time, mathcing the TF-IDF plot."
   ]
  },
  {
   "cell_type": "markdown",
   "id": "697452e6-4eb3-4ebd-bbfa-66ad8c128d9c",
   "metadata": {},
   "source": [
    "![My Image](images/Avg_unq_words.png)"
   ]
  },
  {
   "cell_type": "markdown",
   "id": "4cf9d8c9-a839-4cad-a32d-b667fa6f71dc",
   "metadata": {},
   "source": [
    "![My Image](images/Avg_song_length.png)"
   ]
  },
  {
   "cell_type": "markdown",
   "id": "bfe731dd-d01b-45bc-b1d3-4fd57e470459",
   "metadata": {},
   "source": [
    "It's important to note that the average unique words per song metric is influenced by song length. Therefore, I divide unique words per song by song length and calculate the average for each artist, and the resulting trendline becomes nearly flattened."
   ]
  },
  {
   "cell_type": "markdown",
   "id": "22605169-2c6f-42e0-a7e7-f22f0c517567",
   "metadata": {},
   "source": [
    "![My Image](images/Avg_unq_word_ratio.png)"
   ]
  },
  {
   "cell_type": "markdown",
   "id": "fcdb8c29-f538-406d-bb3c-c4bfc3ffdb46",
   "metadata": {},
   "source": [
    "This suggests the downward trends across time observed in the previous two plots are artifacts of newer songs having shorter lyrics on average rather than newer artists using a less extensive vocabulary. However, the downward trend  across time shown in the initial TF-IDF plot implies that older artists may have more unique lyrics compared to newer artists. As a final examination of this phenomenom, I calcualte TF-IDF using artists as the bag level instead of individual songs as done previously. The results are very similar to the song-level TF-IDF; artist positions are extremly similar and the trendline slope appears the same."
   ]
  },
  {
   "cell_type": "markdown",
   "id": "894fc6bc-c1e3-4873-81b4-910d353f7d7e",
   "metadata": {},
   "source": [
    "![My Image](images/Artist_level_tfidf.png)"
   ]
  },
  {
   "cell_type": "markdown",
   "id": "c79106a7-19e0-4882-a211-a92305e232e9",
   "metadata": {},
   "source": [
    "In conclusion, this exploration indicates that older hip-hop artists tend to use more words per song and thus have more unique words per song on average; but the porpotion of unique words per song is about the same. Both levels of TF-IDF analysis show downward trends which suggests there are differences in lyrical content between older and newer artists. Therefore, while the proportion of unique words per song is consistent across time, older artists used a higher percentage of meaningful, distinct words compared to newer artists."
   ]
  },
  {
   "cell_type": "markdown",
   "id": "e30170a3-241d-4d43-8b36-13883145dc1d",
   "metadata": {},
   "source": [
    "### Principle Component Analysis (PCA)"
   ]
  },
  {
   "cell_type": "markdown",
   "id": "f666bf91-23d6-41db-bcde-4765ffaaa517",
   "metadata": {},
   "source": [
    "Next, I utilize principal component analysis (PCA) to cluster artists based on their lyrical similarity. To reduce the dimensionality of the feature space I selected the top 8,000 most significant nouns, verbs, and adjectives based on the TFIDF metric, and further selected the top 20 principal components."
   ]
  },
  {
   "cell_type": "markdown",
   "id": "b2118d63-821c-4df9-bdcd-857ad15bd066",
   "metadata": {},
   "source": [
    "![My Image](images/PCA_dendrogram.png)"
   ]
  },
  {
   "cell_type": "markdown",
   "id": "cff91011-c661-4451-bdab-e7f20ebf81d1",
   "metadata": {},
   "source": [
    "The results obtained from the PCA analysis provide valuable insights into the clustering of hip-hop artists and align well with my existing knowledge of the hip-hop landscape. The artists were successfully clustered into five main groups based on a color threshold of 2.5. \n",
    "\n",
    "The first cluster, represented by the color brown, mostly contains lyrically proficient artists from the 2000s era. The bottom subgroup contains artists exclusively from the NYC area with a heavy representation of the 'Boom-Bap' subgenre, while the other contains slightly newer artists.\n",
    "\n",
    "The second cluster, colored purple, is comprised old school East Coast artists, with all but four hailing from New York, and the most recent artist represented dating back to 2003.\n",
    "\n",
    "The third cluster, marked in red, consists of many artists representing gansta rap. It has two main subgroups - the first is a mix of artsits from the late 2000's and early 2010's, and the second is mostly West Coast artists mixed with some older southern artists.\n",
    "\n",
    "The fourth and fifth clsuters, colored in green and orange, respectively, consists of newer artists. Interestingly, the green cluster was comprised of slightly older and more lyrical artists. In contrast, the orange cluster consisted of the youngest artists who largely represent the hip-hop subgenres trap, mumble, and drill rap.\n",
    "\n",
    "Overall, the PCA analysis provides an insightful and comprehensive view of the landscape of hip-hop artists and their lyrical similarities. The findings have significant implications for understanding the evolution of the hip-hop over time and the impact of geographic regions on its development."
   ]
  },
  {
   "cell_type": "markdown",
   "id": "a46e273d-d73c-4054-94af-5dad64527a7f",
   "metadata": {},
   "source": [
    "### Topic Modeling"
   ]
  },
  {
   "cell_type": "markdown",
   "id": "a9185a3f-753d-4a28-b580-bed9512f2c0c",
   "metadata": {},
   "source": [
    "I extract topics from the corpus with Latent Dirichlet Allocation (LDA) using the top 10,000 terms, 20 topics with 15 terms each, and 50 iterations. The LDA analysis revealed the prevalence of certain topics in Hip-Hop lyrics, with the topics of money, jewelery, music/partying, life, drugs/street life, and sex being the most prominent. It is interesting to note that these topics are reflective of the cultural and socio-economic contexts in which Hip-Hop emerged and evolved. "
   ]
  },
  {
   "cell_type": "markdown",
   "id": "d4f062c6-7612-4945-a3bf-a8a7c9c6096a",
   "metadata": {},
   "source": [
    "![My Image](images/pretty_topics_table.png)"
   ]
  },
  {
   "cell_type": "markdown",
   "id": "93c7ad60-f514-44b2-b8ee-598c3e12beff",
   "metadata": {},
   "source": [
    "To explore topics over time, I assign category names to the following top eight most distinct topics: Spiritual/Family - T01, Club - T02, Violence - T05, Jewelry/Bling - T07, Sex - T11, Music - T15, Party - T14, Money - T19. Below is a table showing the artists with the highest and lowest score for each selected topic."
   ]
  },
  {
   "cell_type": "markdown",
   "id": "c51ed3b2-2128-49d0-a2b6-51c368520337",
   "metadata": {},
   "source": [
    "![My Image](images/pretty_top_artist_topics.png)"
   ]
  },
  {
   "cell_type": "markdown",
   "id": "b83e007a-85a6-470c-859f-e573a02c409b",
   "metadata": {
    "jp-MarkdownHeadingCollapsed": true,
    "tags": []
   },
   "source": [
    "Next, I create a plot to showcase the selected topics over time. To account for using a subset of the LDA topics and to plot all topics on one graph, I normalized each row to make all topic scores for each year sum to one. Additionally, I limited the plot to years after 1985, as earlier years resulted in sharp topic changes due to a scarcity of songs from 1980-1985."
   ]
  },
  {
   "cell_type": "markdown",
   "id": "281e2a2c-003e-4797-8e60-22b73ee56c8c",
   "metadata": {},
   "source": [
    "![My Image](images/Topics_over_time.svg)"
   ]
  },
  {
   "cell_type": "markdown",
   "id": "d087f296-eab3-46e2-b512-450ad0eeaa2d",
   "metadata": {},
   "source": [
    "Although a large proportion of early hip-hop song lyrics were about music, the popularity of the topic has continously decreased over time. Violence rose throughout the 90's and was the leading topic in the 2000's - on par with the rise of gansta rap. The money topic began rising in the 2000's and the jewelry/bling topic quickly rose in popularity thoughout the 2010's. Sex has been a steady topic throughout the years but has peaked in the last three years, possibly partly due to the rise of sex positive female rappers such as Megan Thee Stallion (#1 in sex topic), Lizzo, and Cardi B. "
   ]
  },
  {
   "cell_type": "markdown",
   "id": "a81e1c17-53ad-4db1-995f-a98cfc660003",
   "metadata": {},
   "source": [
    "### Word Embeddings "
   ]
  },
  {
   "cell_type": "markdown",
   "id": "d007c3aa-d5bd-40d5-a367-fb5e76262d54",
   "metadata": {},
   "source": [
    "I implement the word2vec algorithm (window=2, vector_size=256, min_count=10) to generate a vectorized representation of all the nouns and verbs found in the corpus of lyrics, which allows us to explore the semantic similarity between words present in the corpus. Word2vec produces a high-dimensional vector space, sp I utilize t-Distributed Stochastic Neighbor Embedding (t-SNE) (learning rate=200, perplexity=20, n_components=2,n_iter=1000) to reduce the dimensionality of the space to two dimensions. I make an interactive plotly scatter plot to visually explore prominent word clusters related to hip-hop culture."
   ]
  },
  {
   "cell_type": "markdown",
   "id": "7b05dc7b-8663-4715-bd63-a0c1da5b134c",
   "metadata": {},
   "source": [
    "One cluster that stands out is drug-related words which are specifically grouped according to the type of drug. Alcohol and cough syrup-related words are located in the top left, while pill-form drugs are clustered in the bottom left. Smoking drugs, such as marijuana and tobacco, are located on the right side of the plot."
   ]
  },
  {
   "cell_type": "markdown",
   "id": "fe08fead-81d2-44f1-b4bd-780225d7b790",
   "metadata": {},
   "source": [
    "![My Image](images/ETA_WE_DRUGS1000.png)"
   ]
  },
  {
   "cell_type": "markdown",
   "id": "38b3b2be-6c7b-4103-8992-e57a41befca0",
   "metadata": {},
   "source": [
    "Another cluster I identify is related to jewelry and clothing. Words associated with jewelry and bling form a subgroup near the top left, while designer brands and clothing items are located on the bottom right. An interesting finding is the presence of the term 'baguette' next to necklace and chain, which is slang for jewelry in hip-hop culture."
   ]
  },
  {
   "cell_type": "markdown",
   "id": "bbd0886c-4041-4ec5-b8bf-37a6666a5b3b",
   "metadata": {},
   "source": [
    "![My Image](images/ETA_WE_BLING.png)"
   ]
  },
  {
   "cell_type": "markdown",
   "id": "3be813de-d9d8-4173-9f6a-92658dfe5df2",
   "metadata": {},
   "source": [
    "Finally, I show a cluster of words related to vehicles. High-end luxury cars like Bugatti, Lamborghini, and Porsche are grouped closely together in the left-top of the center cluster, while more generic car terms are located below."
   ]
  },
  {
   "cell_type": "markdown",
   "id": "63036e1a-6343-4a74-97f2-1f3bc6a16c29",
   "metadata": {},
   "source": [
    "![My Image](images/ETA_WE_VEHICLES.png)"
   ]
  },
  {
   "cell_type": "markdown",
   "id": "8223cc21-dbad-4b41-88bd-922f0c795253",
   "metadata": {},
   "source": [
    "### Sentiment Analysis"
   ]
  },
  {
   "cell_type": "markdown",
   "id": "0d500ed6-f074-4768-b43f-a22b7d50477d",
   "metadata": {},
   "source": [
    "I perform sentiment analysis using the NRC emotion lexicon to discover which artists have the most exteme sentiment scores as well as explore changes in sentiment over time. To calculate artist sentiment score, I first used TF-IDF to weight the emotion lexicon word scores and then average these scores at the artist level, resulting in sentiment scores for each artist. "
   ]
  },
  {
   "cell_type": "markdown",
   "id": "34f9bbc9-b5da-4dbd-b5ed-15fea86c38ae",
   "metadata": {},
   "source": [
    "![My Image](images/pretty_sents_table.png)"
   ]
  },
  {
   "cell_type": "markdown",
   "id": "b5b7ddbb-97c5-4624-a436-3bcf8d9e4e70",
   "metadata": {},
   "source": [
    "To analyze sentiment across time I appliy the same methods described above but instead group the sentiment scores by album, providing a more granular analysis by year comapred to using artist median year. The results of plotting sentiment across time are meger; the fluctions don't seem to be more stochastic than a function of time-related processes or events. However, regardless of year, fear and anger seem to be the most popular sentiments while surprise is the least popular. Additionally, the average sentiment score is always slightly negitive, altough this is not too suprising given the often gritty nature of Hip-Hop. "
   ]
  },
  {
   "cell_type": "markdown",
   "id": "2798bebf-6257-4035-a3e5-883057a35c4c",
   "metadata": {},
   "source": [
    "![My Image](images/Sent_over_time.svg)"
   ]
  },
  {
   "cell_type": "markdown",
   "id": "c5d4be5c-8d45-43fc-ad28-e640aa7e4264",
   "metadata": {},
   "source": [
    "Considering the results of sentiment analysis and topic modeling, we can conclude that the tone of hip-hop lyrics has not changed much over time yet the content of lyrics has changed somewhat significantly. "
   ]
  },
  {
   "cell_type": "markdown",
   "id": "7c93237c-1082-4469-9e20-b287ee64cf3c",
   "metadata": {},
   "source": [
    "### Conclusion"
   ]
  },
  {
   "cell_type": "markdown",
   "id": "25b4ac51-ad58-407e-930b-ffc480e4be50",
   "metadata": {},
   "source": [
    "This exploratory data analysis project has provided valuable insights into the world of hip-hop music lyrics. The analysis focused on the lyrics of 116 hip-hop artists from the 80s to present day, investigating factors such as the artists' state of origin and top year, lyrical sentiment, and most popular topics. The results suggest that older hip-hop artists tend to use more words per song, and thus have more unique words per song on average, but the proportion of unique words per song is about the same. Both levels of TF-IDF analysis show downward trends which may suggest there are differences in lyrical content between older and newer artists. PCA provides insights into the clustering of hip-hop artists and LDA topic modeling generated 20 topics - the results of both align well with existing knowledge of the genre.  Overall, this project sheds light on the historical evolution and current state of hip-hop music, a genre that has left an indelible mark on popular culture."
   ]
  }
 ],
 "metadata": {
  "kernelspec": {
   "display_name": "Python 3 (ipykernel)",
   "language": "python",
   "name": "python3"
  },
  "language_info": {
   "codemirror_mode": {
    "name": "ipython",
    "version": 3
   },
   "file_extension": ".py",
   "mimetype": "text/x-python",
   "name": "python",
   "nbconvert_exporter": "python",
   "pygments_lexer": "ipython3",
   "version": "3.10.9"
  }
 },
 "nbformat": 4,
 "nbformat_minor": 5
}
